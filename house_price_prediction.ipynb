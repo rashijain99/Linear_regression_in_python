{
 "cells": [
  {
   "cell_type": "code",
   "execution_count": 4,
   "id": "deb1bf57",
   "metadata": {},
   "outputs": [],
   "source": [
    "import numpy as np  \n",
    "import pandas as pd\n",
    "import matplotlib.pyplot as plt\n",
    "from sklearn import linear_model"
   ]
  },
  {
   "cell_type": "code",
   "execution_count": 5,
   "id": "d04abcbb",
   "metadata": {},
   "outputs": [
    {
     "data": {
      "text/html": [
       "<div>\n",
       "<style scoped>\n",
       "    .dataframe tbody tr th:only-of-type {\n",
       "        vertical-align: middle;\n",
       "    }\n",
       "\n",
       "    .dataframe tbody tr th {\n",
       "        vertical-align: top;\n",
       "    }\n",
       "\n",
       "    .dataframe thead th {\n",
       "        text-align: right;\n",
       "    }\n",
       "</style>\n",
       "<table border=\"1\" class=\"dataframe\">\n",
       "  <thead>\n",
       "    <tr style=\"text-align: right;\">\n",
       "      <th></th>\n",
       "      <th>Area</th>\n",
       "      <th>Price</th>\n",
       "    </tr>\n",
       "  </thead>\n",
       "  <tbody>\n",
       "    <tr>\n",
       "      <th>0</th>\n",
       "      <td>2600</td>\n",
       "      <td>550000</td>\n",
       "    </tr>\n",
       "    <tr>\n",
       "      <th>1</th>\n",
       "      <td>3000</td>\n",
       "      <td>565000</td>\n",
       "    </tr>\n",
       "    <tr>\n",
       "      <th>2</th>\n",
       "      <td>3200</td>\n",
       "      <td>610000</td>\n",
       "    </tr>\n",
       "    <tr>\n",
       "      <th>3</th>\n",
       "      <td>3600</td>\n",
       "      <td>680000</td>\n",
       "    </tr>\n",
       "    <tr>\n",
       "      <th>4</th>\n",
       "      <td>4000</td>\n",
       "      <td>725000</td>\n",
       "    </tr>\n",
       "  </tbody>\n",
       "</table>\n",
       "</div>"
      ],
      "text/plain": [
       "   Area   Price\n",
       "0  2600  550000\n",
       "1  3000  565000\n",
       "2  3200  610000\n",
       "3  3600  680000\n",
       "4  4000  725000"
      ]
     },
     "execution_count": 5,
     "metadata": {},
     "output_type": "execute_result"
    }
   ],
   "source": [
    "df = pd.read_csv("house.csv\")\n",
    "df"
   ]
  },
  {
   "cell_type": "code",
   "execution_count": 6,
   "id": "01c8ac0e",
   "metadata": {
    "scrolled": true
   },
   "outputs": [
    {
     "data": {
      "text/html": [
       "<div>\n",
       "<style scoped>\n",
       "    .dataframe tbody tr th:only-of-type {\n",
       "        vertical-align: middle;\n",
       "    }\n",
       "\n",
       "    .dataframe tbody tr th {\n",
       "        vertical-align: top;\n",
       "    }\n",
       "\n",
       "    .dataframe thead th {\n",
       "        text-align: right;\n",
       "    }\n",
       "</style>\n",
       "<table border=\"1\" class=\"dataframe\">\n",
       "  <thead>\n",
       "    <tr style=\"text-align: right;\">\n",
       "      <th></th>\n",
       "      <th>Area</th>\n",
       "      <th>Price</th>\n",
       "    </tr>\n",
       "  </thead>\n",
       "  <tbody>\n",
       "    <tr>\n",
       "      <th>0</th>\n",
       "      <td>2600</td>\n",
       "      <td>550000</td>\n",
       "    </tr>\n",
       "    <tr>\n",
       "      <th>1</th>\n",
       "      <td>3000</td>\n",
       "      <td>565000</td>\n",
       "    </tr>\n",
       "    <tr>\n",
       "      <th>2</th>\n",
       "      <td>3200</td>\n",
       "      <td>610000</td>\n",
       "    </tr>\n",
       "    <tr>\n",
       "      <th>3</th>\n",
       "      <td>3600</td>\n",
       "      <td>680000</td>\n",
       "    </tr>\n",
       "    <tr>\n",
       "      <th>4</th>\n",
       "      <td>4000</td>\n",
       "      <td>725000</td>\n",
       "    </tr>\n",
       "  </tbody>\n",
       "</table>\n",
       "</div>"
      ],
      "text/plain": [
       "   Area   Price\n",
       "0  2600  550000\n",
       "1  3000  565000\n",
       "2  3200  610000\n",
       "3  3600  680000\n",
       "4  4000  725000"
      ]
     },
     "execution_count": 6,
     "metadata": {},
     "output_type": "execute_result"
    }
   ],
   "source": [
    "# df.head()\n",
    "df.tail()"
   ]
  },
  {
   "cell_type": "code",
   "execution_count": 7,
   "id": "93691165",
   "metadata": {},
   "outputs": [
    {
     "data": {
      "text/plain": [
       "<matplotlib.collections.PathCollection at 0x19da1d8d730>"
      ]
     },
     "execution_count": 7,
     "metadata": {},
     "output_type": "execute_result"
    },
    {
     "data": {
      "image/png": "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\n",
      "text/plain": [
       "<Figure size 432x288 with 1 Axes>"
      ]
     },
     "metadata": {
      "needs_background": "light"
     },
     "output_type": "display_data"
    }
   ],
   "source": [
    "%matplotlib inline\n",
    "plt.xlabel('Area(sqr ft)')\n",
    "plt.ylabel('Price(USD)')\n",
    "plt.scatter(df.Area,df.Price, color='green', marker=\"+\")"
   ]
  },
  {
   "cell_type": "code",
   "execution_count": 8,
   "id": "913fac0b",
   "metadata": {},
   "outputs": [
    {
     "data": {
      "text/plain": [
       "LinearRegression()"
      ]
     },
     "execution_count": 8,
     "metadata": {},
     "output_type": "execute_result"
    }
   ],
   "source": [
    "reg =linear_model.LinearRegression()\n",
    "reg.fit(df[['Area']],df.Price)"
   ]
  },
  {
   "cell_type": "code",
   "execution_count": 36,
   "id": "d7a7b13e",
   "metadata": {},
   "outputs": [
    {
     "data": {
      "text/plain": [
       "array([628715.75342466])"
      ]
     },
     "execution_count": 36,
     "metadata": {},
     "output_type": "execute_result"
    }
   ],
   "source": [
    "y_predict= reg.predict([[3300]]) # 1d array \n",
    "y_predict"
   ]
  },
  {
   "cell_type": "code",
   "execution_count": 37,
   "id": "73b7e0e5",
   "metadata": {},
   "outputs": [
    {
     "data": {
      "text/plain": [
       "array([135.78767123])"
      ]
     },
     "execution_count": 37,
     "metadata": {},
     "output_type": "execute_result"
    }
   ],
   "source": [
    "reg.coef_            # finding slope or gradient of line"
   ]
  },
  {
   "cell_type": "code",
   "execution_count": 38,
   "id": "d57c0f5c",
   "metadata": {},
   "outputs": [
    {
     "data": {
      "text/plain": [
       "180616.43835616432"
      ]
     },
     "execution_count": 38,
     "metadata": {},
     "output_type": "execute_result"
    }
   ],
   "source": [
    "reg.intercept_       # finding intercept of line"
   ]
  },
  {
   "cell_type": "code",
   "execution_count": 39,
   "id": "fc5f577b",
   "metadata": {},
   "outputs": [
    {
     "data": {
      "text/plain": [
       "628715.7534151643"
      ]
     },
     "execution_count": 39,
     "metadata": {},
     "output_type": "execute_result"
    }
   ],
   "source": [
    "# y=m*x+b\n",
    "y_calc = 135.78767123 * 3300 + 180616.43835616432\n",
    "y_calc"
   ]
  },
  {
   "cell_type": "code",
   "execution_count": 40,
   "id": "174c9c4b",
   "metadata": {},
   "outputs": [
    {
     "data": {
      "text/plain": [
       "[<matplotlib.lines.Line2D at 0x19da23c2370>]"
      ]
     },
     "execution_count": 40,
     "metadata": {},
     "output_type": "execute_result"
    },
    {
     "data": {
      "image/png": "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\n",
      "text/plain": [
       "<Figure size 432x288 with 1 Axes>"
      ]
     },
     "metadata": {
      "needs_background": "light"
     },
     "output_type": "display_data"
    }
   ],
   "source": [
    "%matplotlib inline\n",
    "plt.xlabel('Area(sqr ft)')\n",
    "plt.ylabel('Price(USD)')\n",
    "plt.scatter(df.Area,df.Price, color='green', marker=\"*\")\n",
    "plt.plot(df.Area,reg.predict(df[['Area']]), color='red')    # graph between predicted values vs actual values"
   ]
  },
  {
   "cell_type": "code",
   "execution_count": 41,
   "id": "b8589fb2",
   "metadata": {},
   "outputs": [
    {
     "data": {
      "text/html": [
       "<div>\n",
       "<style scoped>\n",
       "    .dataframe tbody tr th:only-of-type {\n",
       "        vertical-align: middle;\n",
       "    }\n",
       "\n",
       "    .dataframe tbody tr th {\n",
       "        vertical-align: top;\n",
       "    }\n",
       "\n",
       "    .dataframe thead th {\n",
       "        text-align: right;\n",
       "    }\n",
       "</style>\n",
       "<table border=\"1\" class=\"dataframe\">\n",
       "  <thead>\n",
       "    <tr style=\"text-align: right;\">\n",
       "      <th></th>\n",
       "      <th>Area</th>\n",
       "    </tr>\n",
       "  </thead>\n",
       "  <tbody>\n",
       "    <tr>\n",
       "      <th>0</th>\n",
       "      <td>1000</td>\n",
       "    </tr>\n",
       "    <tr>\n",
       "      <th>1</th>\n",
       "      <td>1500</td>\n",
       "    </tr>\n",
       "    <tr>\n",
       "      <th>2</th>\n",
       "      <td>2000</td>\n",
       "    </tr>\n",
       "    <tr>\n",
       "      <th>3</th>\n",
       "      <td>2500</td>\n",
       "    </tr>\n",
       "    <tr>\n",
       "      <th>4</th>\n",
       "      <td>3000</td>\n",
       "    </tr>\n",
       "    <tr>\n",
       "      <th>5</th>\n",
       "      <td>3500</td>\n",
       "    </tr>\n",
       "    <tr>\n",
       "      <th>6</th>\n",
       "      <td>4000</td>\n",
       "    </tr>\n",
       "    <tr>\n",
       "      <th>7</th>\n",
       "      <td>4500</td>\n",
       "    </tr>\n",
       "    <tr>\n",
       "      <th>8</th>\n",
       "      <td>5000</td>\n",
       "    </tr>\n",
       "  </tbody>\n",
       "</table>\n",
       "</div>"
      ],
      "text/plain": [
       "   Area\n",
       "0  1000\n",
       "1  1500\n",
       "2  2000\n",
       "3  2500\n",
       "4  3000\n",
       "5  3500\n",
       "6  4000\n",
       "7  4500\n",
       "8  5000"
      ]
     },
     "execution_count": 41,
     "metadata": {},
     "output_type": "execute_result"
    }
   ],
   "source": [
    "a = pd.read_csv("areas.csv\")    # load areas.csv file to predict prices\n",
    "a"
   ]
  },
  {
   "cell_type": "code",
   "execution_count": 26,
   "id": "eb80931b",
   "metadata": {},
   "outputs": [
    {
     "data": {
      "text/plain": [
       "array([316404.10958904, 384297.94520548, 452191.78082192, 520085.61643836,\n",
       "       587979.45205479, 655873.28767123, 723767.12328767, 791660.95890411,\n",
       "       859554.79452055])"
      ]
     },
     "execution_count": 26,
     "metadata": {},
     "output_type": "execute_result"
    }
   ],
   "source": [
    "price_predict =reg.predict(a)\n",
    "price_predict"
   ]
  },
  {
   "cell_type": "code",
   "execution_count": 27,
   "id": "a3792566",
   "metadata": {},
   "outputs": [
    {
     "data": {
      "text/html": [
       "<div>\n",
       "<style scoped>\n",
       "    .dataframe tbody tr th:only-of-type {\n",
       "        vertical-align: middle;\n",
       "    }\n",
       "\n",
       "    .dataframe tbody tr th {\n",
       "        vertical-align: top;\n",
       "    }\n",
       "\n",
       "    .dataframe thead th {\n",
       "        text-align: right;\n",
       "    }\n",
       "</style>\n",
       "<table border=\"1\" class=\"dataframe\">\n",
       "  <thead>\n",
       "    <tr style=\"text-align: right;\">\n",
       "      <th></th>\n",
       "      <th>Area</th>\n",
       "      <th>Prices</th>\n",
       "    </tr>\n",
       "  </thead>\n",
       "  <tbody>\n",
       "    <tr>\n",
       "      <th>0</th>\n",
       "      <td>1000</td>\n",
       "      <td>316404.109589</td>\n",
       "    </tr>\n",
       "    <tr>\n",
       "      <th>1</th>\n",
       "      <td>1500</td>\n",
       "      <td>384297.945205</td>\n",
       "    </tr>\n",
       "    <tr>\n",
       "      <th>2</th>\n",
       "      <td>2000</td>\n",
       "      <td>452191.780822</td>\n",
       "    </tr>\n",
       "    <tr>\n",
       "      <th>3</th>\n",
       "      <td>2500</td>\n",
       "      <td>520085.616438</td>\n",
       "    </tr>\n",
       "    <tr>\n",
       "      <th>4</th>\n",
       "      <td>3000</td>\n",
       "      <td>587979.452055</td>\n",
       "    </tr>\n",
       "    <tr>\n",
       "      <th>5</th>\n",
       "      <td>3500</td>\n",
       "      <td>655873.287671</td>\n",
       "    </tr>\n",
       "    <tr>\n",
       "      <th>6</th>\n",
       "      <td>4000</td>\n",
       "      <td>723767.123288</td>\n",
       "    </tr>\n",
       "    <tr>\n",
       "      <th>7</th>\n",
       "      <td>4500</td>\n",
       "      <td>791660.958904</td>\n",
       "    </tr>\n",
       "    <tr>\n",
       "      <th>8</th>\n",
       "      <td>5000</td>\n",
       "      <td>859554.794521</td>\n",
       "    </tr>\n",
       "  </tbody>\n",
       "</table>\n",
       "</div>"
      ],
      "text/plain": [
       "   Area         Prices\n",
       "0  1000  316404.109589\n",
       "1  1500  384297.945205\n",
       "2  2000  452191.780822\n",
       "3  2500  520085.616438\n",
       "4  3000  587979.452055\n",
       "5  3500  655873.287671\n",
       "6  4000  723767.123288\n",
       "7  4500  791660.958904\n",
       "8  5000  859554.794521"
      ]
     },
     "execution_count": 27,
     "metadata": {},
     "output_type": "execute_result"
    }
   ],
   "source": [
    "a['Prices'] = price_predict   # creating a new column in csv file\n",
    "a"
   ]
  },
  {
   "cell_type": "code",
   "execution_count": 28,
   "id": "a0d347c8",
   "metadata": {},
   "outputs": [],
   "source": [
    "a.to_csv(\"prediction.csv\", index=False)    # store data in new csv file"
   ]
  },
  {
   "cell_type": "code",
   "execution_count": 31,
   "id": "d69ef2ef",
   "metadata": {},
   "outputs": [
    {
     "data": {
      "text/plain": [
       "[<matplotlib.lines.Line2D at 0x19da1c7bf40>]"
      ]
     },
     "execution_count": 31,
     "metadata": {},
     "output_type": "execute_result"
    },
    {
     "data": {
      "image/png": "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\n",
      "text/plain": [
       "<Figure size 432x288 with 1 Axes>"
      ]
     },
     "metadata": {
      "needs_background": "light"
     },
     "output_type": "display_data"
    }
   ],
   "source": [
    "%matplotlib inline\n",
    "plt.xlabel('Area(sqr ft)')\n",
    "plt.ylabel('Price(USD)')\n",
    "plt.plot(a.Area,a.Prices, color='green', marker=\"*\")\n",
    "# plt.plot(df.Area,reg.predict(df[['Area']]), color='red')"
   ]
  }
 ],
 "metadata": {
  "kernelspec": {
   "display_name": "Python 3 (ipykernel)",
   "language": "python",
   "name": "python3"
  },
  "language_info": {
   "codemirror_mode": {
    "name": "ipython",
    "version": 3
   },
   "file_extension": ".py",
   "mimetype": "text/x-python",
   "name": "python",
   "nbconvert_exporter": "python",
   "pygments_lexer": "ipython3",
   "version": "3.9.7"
  }
 },
 "nbformat": 4,
 "nbformat_minor": 5
}
